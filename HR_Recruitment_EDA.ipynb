{
 "cells": [
  {
   "cell_type": "markdown",
   "id": "903e060a",
   "metadata": {},
   "source": [
    "# Importing Libraries"
   ]
  },
  {
   "cell_type": "code",
   "execution_count": 4,
   "id": "a3703e55",
   "metadata": {},
   "outputs": [],
   "source": [
    "import numpy as np\n",
    "import matplotlib.pyplot as plt\n",
    "import seaborn as sns\n",
    "from sklearn.cluster import KMeans,AgglomerativeClustering\n",
    "from scipy.stats import zscore\n",
    "from sklearn.metrics import silhouette_score,classification_report\n",
    "import pandas as pd\n",
    "\n",
    "# Print many lines atsame time\n",
    "from IPython.core.interactiveshell import InteractiveShell\n",
    "InteractiveShell.ast_node_interactivity = \"all\"\n",
    "\n",
    "pd.options.display.max_columns=1000"
   ]
  },
  {
   "cell_type": "markdown",
   "id": "d2d92248",
   "metadata": {},
   "source": [
    "# Load dataset"
   ]
  },
  {
   "cell_type": "code",
   "execution_count": 5,
   "id": "0960f710",
   "metadata": {},
   "outputs": [],
   "source": [
    "\n",
    "    \n",
    "df=pd.read_csv(\"Recruitment_Dataset.csv\")\n",
    "\n"
   ]
  },
  {
   "cell_type": "markdown",
   "id": "1e280ad7",
   "metadata": {},
   "source": [
    "# EDA"
   ]
  },
  {
   "cell_type": "code",
   "execution_count": 6,
   "id": "af47529f",
   "metadata": {},
   "outputs": [
    {
     "data": {
      "text/html": [
       "<div>\n",
       "<style scoped>\n",
       "    .dataframe tbody tr th:only-of-type {\n",
       "        vertical-align: middle;\n",
       "    }\n",
       "\n",
       "    .dataframe tbody tr th {\n",
       "        vertical-align: top;\n",
       "    }\n",
       "\n",
       "    .dataframe thead th {\n",
       "        text-align: right;\n",
       "    }\n",
       "</style>\n",
       "<table border=\"1\" class=\"dataframe\">\n",
       "  <thead>\n",
       "    <tr style=\"text-align: right;\">\n",
       "      <th></th>\n",
       "      <th>Candidate_Ref</th>\n",
       "      <th>DOJ.Extended</th>\n",
       "      <th>Duration.to.accept.offer</th>\n",
       "      <th>Notice.period</th>\n",
       "      <th>Offered.band</th>\n",
       "      <th>Pecent.hike.expected.in.CTC</th>\n",
       "      <th>Percent.hike.offered.in.CTC</th>\n",
       "      <th>Percent.difference.CTC</th>\n",
       "      <th>Joining.Bonus</th>\n",
       "      <th>Candidate.relocate.actual</th>\n",
       "      <th>Gender</th>\n",
       "      <th>Candidate.Source</th>\n",
       "      <th>Rex.in.Yrs</th>\n",
       "      <th>LOB</th>\n",
       "      <th>Location</th>\n",
       "      <th>Age</th>\n",
       "      <th>Status</th>\n",
       "    </tr>\n",
       "  </thead>\n",
       "  <tbody>\n",
       "    <tr>\n",
       "      <th>0</th>\n",
       "      <td>2110407</td>\n",
       "      <td>Yes</td>\n",
       "      <td>14</td>\n",
       "      <td>30</td>\n",
       "      <td>E2</td>\n",
       "      <td>-20.79</td>\n",
       "      <td>13.16</td>\n",
       "      <td>42.86</td>\n",
       "      <td>No</td>\n",
       "      <td>No</td>\n",
       "      <td>Female</td>\n",
       "      <td>Agency</td>\n",
       "      <td>7</td>\n",
       "      <td>ERS</td>\n",
       "      <td>Noida</td>\n",
       "      <td>34</td>\n",
       "      <td>Joined</td>\n",
       "    </tr>\n",
       "    <tr>\n",
       "      <th>1</th>\n",
       "      <td>2112635</td>\n",
       "      <td>No</td>\n",
       "      <td>18</td>\n",
       "      <td>30</td>\n",
       "      <td>E2</td>\n",
       "      <td>50.00</td>\n",
       "      <td>320.00</td>\n",
       "      <td>180.00</td>\n",
       "      <td>No</td>\n",
       "      <td>No</td>\n",
       "      <td>Male</td>\n",
       "      <td>Employee Referral</td>\n",
       "      <td>8</td>\n",
       "      <td>INFRA</td>\n",
       "      <td>Chennai</td>\n",
       "      <td>34</td>\n",
       "      <td>Joined</td>\n",
       "    </tr>\n",
       "    <tr>\n",
       "      <th>2</th>\n",
       "      <td>2112838</td>\n",
       "      <td>No</td>\n",
       "      <td>3</td>\n",
       "      <td>45</td>\n",
       "      <td>E2</td>\n",
       "      <td>42.84</td>\n",
       "      <td>42.84</td>\n",
       "      <td>0.00</td>\n",
       "      <td>No</td>\n",
       "      <td>No</td>\n",
       "      <td>Male</td>\n",
       "      <td>Agency</td>\n",
       "      <td>4</td>\n",
       "      <td>INFRA</td>\n",
       "      <td>Noida</td>\n",
       "      <td>27</td>\n",
       "      <td>Joined</td>\n",
       "    </tr>\n",
       "    <tr>\n",
       "      <th>3</th>\n",
       "      <td>2115021</td>\n",
       "      <td>No</td>\n",
       "      <td>26</td>\n",
       "      <td>30</td>\n",
       "      <td>E2</td>\n",
       "      <td>42.84</td>\n",
       "      <td>42.84</td>\n",
       "      <td>0.00</td>\n",
       "      <td>No</td>\n",
       "      <td>No</td>\n",
       "      <td>Male</td>\n",
       "      <td>Employee Referral</td>\n",
       "      <td>4</td>\n",
       "      <td>INFRA</td>\n",
       "      <td>Noida</td>\n",
       "      <td>34</td>\n",
       "      <td>Joined</td>\n",
       "    </tr>\n",
       "    <tr>\n",
       "      <th>4</th>\n",
       "      <td>2115125</td>\n",
       "      <td>Yes</td>\n",
       "      <td>1</td>\n",
       "      <td>120</td>\n",
       "      <td>E2</td>\n",
       "      <td>42.59</td>\n",
       "      <td>42.59</td>\n",
       "      <td>0.00</td>\n",
       "      <td>No</td>\n",
       "      <td>Yes</td>\n",
       "      <td>Male</td>\n",
       "      <td>Employee Referral</td>\n",
       "      <td>6</td>\n",
       "      <td>INFRA</td>\n",
       "      <td>Noida</td>\n",
       "      <td>34</td>\n",
       "      <td>Joined</td>\n",
       "    </tr>\n",
       "  </tbody>\n",
       "</table>\n",
       "</div>"
      ],
      "text/plain": [
       "   Candidate_Ref DOJ.Extended  Duration.to.accept.offer  Notice.period  \\\n",
       "0        2110407          Yes                        14             30   \n",
       "1        2112635           No                        18             30   \n",
       "2        2112838           No                         3             45   \n",
       "3        2115021           No                        26             30   \n",
       "4        2115125          Yes                         1            120   \n",
       "\n",
       "  Offered.band  Pecent.hike.expected.in.CTC  Percent.hike.offered.in.CTC  \\\n",
       "0           E2                       -20.79                        13.16   \n",
       "1           E2                        50.00                       320.00   \n",
       "2           E2                        42.84                        42.84   \n",
       "3           E2                        42.84                        42.84   \n",
       "4           E2                        42.59                        42.59   \n",
       "\n",
       "   Percent.difference.CTC Joining.Bonus Candidate.relocate.actual  Gender  \\\n",
       "0                   42.86            No                        No  Female   \n",
       "1                  180.00            No                        No    Male   \n",
       "2                    0.00            No                        No    Male   \n",
       "3                    0.00            No                        No    Male   \n",
       "4                    0.00            No                       Yes    Male   \n",
       "\n",
       "    Candidate.Source  Rex.in.Yrs    LOB Location  Age  Status  \n",
       "0             Agency           7    ERS    Noida   34  Joined  \n",
       "1  Employee Referral           8  INFRA  Chennai   34  Joined  \n",
       "2             Agency           4  INFRA    Noida   27  Joined  \n",
       "3  Employee Referral           4  INFRA    Noida   34  Joined  \n",
       "4  Employee Referral           6  INFRA    Noida   34  Joined  "
      ]
     },
     "execution_count": 6,
     "metadata": {},
     "output_type": "execute_result"
    },
    {
     "data": {
      "text/html": [
       "<div>\n",
       "<style scoped>\n",
       "    .dataframe tbody tr th:only-of-type {\n",
       "        vertical-align: middle;\n",
       "    }\n",
       "\n",
       "    .dataframe tbody tr th {\n",
       "        vertical-align: top;\n",
       "    }\n",
       "\n",
       "    .dataframe thead th {\n",
       "        text-align: right;\n",
       "    }\n",
       "</style>\n",
       "<table border=\"1\" class=\"dataframe\">\n",
       "  <thead>\n",
       "    <tr style=\"text-align: right;\">\n",
       "      <th></th>\n",
       "      <th>Candidate_Ref</th>\n",
       "      <th>DOJ.Extended</th>\n",
       "      <th>Duration.to.accept.offer</th>\n",
       "      <th>Notice.period</th>\n",
       "      <th>Offered.band</th>\n",
       "      <th>Pecent.hike.expected.in.CTC</th>\n",
       "      <th>Percent.hike.offered.in.CTC</th>\n",
       "      <th>Percent.difference.CTC</th>\n",
       "      <th>Joining.Bonus</th>\n",
       "      <th>Candidate.relocate.actual</th>\n",
       "      <th>Gender</th>\n",
       "      <th>Candidate.Source</th>\n",
       "      <th>Rex.in.Yrs</th>\n",
       "      <th>LOB</th>\n",
       "      <th>Location</th>\n",
       "      <th>Age</th>\n",
       "      <th>Status</th>\n",
       "    </tr>\n",
       "  </thead>\n",
       "  <tbody>\n",
       "    <tr>\n",
       "      <th>8990</th>\n",
       "      <td>3822427</td>\n",
       "      <td>No</td>\n",
       "      <td>4</td>\n",
       "      <td>0</td>\n",
       "      <td>E1</td>\n",
       "      <td>191.67</td>\n",
       "      <td>191.67</td>\n",
       "      <td>0.00</td>\n",
       "      <td>No</td>\n",
       "      <td>No</td>\n",
       "      <td>Male</td>\n",
       "      <td>Employee Referral</td>\n",
       "      <td>1</td>\n",
       "      <td>ERS</td>\n",
       "      <td>Chennai</td>\n",
       "      <td>34</td>\n",
       "      <td>Joined</td>\n",
       "    </tr>\n",
       "    <tr>\n",
       "      <th>8991</th>\n",
       "      <td>3828206</td>\n",
       "      <td>Yes</td>\n",
       "      <td>2</td>\n",
       "      <td>0</td>\n",
       "      <td>E1</td>\n",
       "      <td>150.00</td>\n",
       "      <td>150.00</td>\n",
       "      <td>0.00</td>\n",
       "      <td>No</td>\n",
       "      <td>No</td>\n",
       "      <td>Female</td>\n",
       "      <td>Direct</td>\n",
       "      <td>3</td>\n",
       "      <td>BFSI</td>\n",
       "      <td>Chennai</td>\n",
       "      <td>34</td>\n",
       "      <td>Joined</td>\n",
       "    </tr>\n",
       "    <tr>\n",
       "      <th>8992</th>\n",
       "      <td>3834159</td>\n",
       "      <td>No</td>\n",
       "      <td>0</td>\n",
       "      <td>0</td>\n",
       "      <td>E2</td>\n",
       "      <td>35.42</td>\n",
       "      <td>35.42</td>\n",
       "      <td>0.00</td>\n",
       "      <td>No</td>\n",
       "      <td>No</td>\n",
       "      <td>Male</td>\n",
       "      <td>Direct</td>\n",
       "      <td>5</td>\n",
       "      <td>INFRA</td>\n",
       "      <td>Noida</td>\n",
       "      <td>34</td>\n",
       "      <td>Joined</td>\n",
       "    </tr>\n",
       "    <tr>\n",
       "      <th>8993</th>\n",
       "      <td>3835433</td>\n",
       "      <td>No</td>\n",
       "      <td>0</td>\n",
       "      <td>30</td>\n",
       "      <td>E1</td>\n",
       "      <td>76.92</td>\n",
       "      <td>53.85</td>\n",
       "      <td>-13.04</td>\n",
       "      <td>No</td>\n",
       "      <td>No</td>\n",
       "      <td>Male</td>\n",
       "      <td>Direct</td>\n",
       "      <td>4</td>\n",
       "      <td>INFRA</td>\n",
       "      <td>Noida</td>\n",
       "      <td>34</td>\n",
       "      <td>Joined</td>\n",
       "    </tr>\n",
       "    <tr>\n",
       "      <th>8994</th>\n",
       "      <td>3836076</td>\n",
       "      <td>No</td>\n",
       "      <td>2</td>\n",
       "      <td>0</td>\n",
       "      <td>E1</td>\n",
       "      <td>45.25</td>\n",
       "      <td>14.09</td>\n",
       "      <td>-21.45</td>\n",
       "      <td>No</td>\n",
       "      <td>No</td>\n",
       "      <td>Female</td>\n",
       "      <td>Employee Referral</td>\n",
       "      <td>1</td>\n",
       "      <td>INFRA</td>\n",
       "      <td>Chennai</td>\n",
       "      <td>34</td>\n",
       "      <td>Joined</td>\n",
       "    </tr>\n",
       "  </tbody>\n",
       "</table>\n",
       "</div>"
      ],
      "text/plain": [
       "      Candidate_Ref DOJ.Extended  Duration.to.accept.offer  Notice.period  \\\n",
       "8990        3822427           No                         4              0   \n",
       "8991        3828206          Yes                         2              0   \n",
       "8992        3834159           No                         0              0   \n",
       "8993        3835433           No                         0             30   \n",
       "8994        3836076           No                         2              0   \n",
       "\n",
       "     Offered.band  Pecent.hike.expected.in.CTC  Percent.hike.offered.in.CTC  \\\n",
       "8990           E1                       191.67                       191.67   \n",
       "8991           E1                       150.00                       150.00   \n",
       "8992           E2                        35.42                        35.42   \n",
       "8993           E1                        76.92                        53.85   \n",
       "8994           E1                        45.25                        14.09   \n",
       "\n",
       "      Percent.difference.CTC Joining.Bonus Candidate.relocate.actual  Gender  \\\n",
       "8990                    0.00            No                        No    Male   \n",
       "8991                    0.00            No                        No  Female   \n",
       "8992                    0.00            No                        No    Male   \n",
       "8993                  -13.04            No                        No    Male   \n",
       "8994                  -21.45            No                        No  Female   \n",
       "\n",
       "       Candidate.Source  Rex.in.Yrs    LOB Location  Age  Status  \n",
       "8990  Employee Referral           1    ERS  Chennai   34  Joined  \n",
       "8991             Direct           3   BFSI  Chennai   34  Joined  \n",
       "8992             Direct           5  INFRA    Noida   34  Joined  \n",
       "8993             Direct           4  INFRA    Noida   34  Joined  \n",
       "8994  Employee Referral           1  INFRA  Chennai   34  Joined  "
      ]
     },
     "execution_count": 6,
     "metadata": {},
     "output_type": "execute_result"
    },
    {
     "name": "stdout",
     "output_type": "stream",
     "text": [
      "number of rows: 8995\n",
      "number of columns: 17\n",
      "<class 'pandas.core.frame.DataFrame'>\n",
      "RangeIndex: 8995 entries, 0 to 8994\n",
      "Data columns (total 17 columns):\n",
      " #   Column                       Non-Null Count  Dtype  \n",
      "---  ------                       --------------  -----  \n",
      " 0   Candidate_Ref                8995 non-null   int64  \n",
      " 1   DOJ.Extended                 8995 non-null   object \n",
      " 2   Duration.to.accept.offer     8995 non-null   int64  \n",
      " 3   Notice.period                8995 non-null   int64  \n",
      " 4   Offered.band                 8995 non-null   object \n",
      " 5   Pecent.hike.expected.in.CTC  8995 non-null   float64\n",
      " 6   Percent.hike.offered.in.CTC  8995 non-null   float64\n",
      " 7   Percent.difference.CTC       8995 non-null   float64\n",
      " 8   Joining.Bonus                8995 non-null   object \n",
      " 9   Candidate.relocate.actual    8995 non-null   object \n",
      " 10  Gender                       8995 non-null   object \n",
      " 11  Candidate.Source             8995 non-null   object \n",
      " 12  Rex.in.Yrs                   8995 non-null   int64  \n",
      " 13  LOB                          8995 non-null   object \n",
      " 14  Location                     8995 non-null   object \n",
      " 15  Age                          8995 non-null   int64  \n",
      " 16  Status                       8995 non-null   object \n",
      "dtypes: float64(3), int64(5), object(9)\n",
      "memory usage: 1.2+ MB\n"
     ]
    },
    {
     "data": {
      "text/html": [
       "<div>\n",
       "<style scoped>\n",
       "    .dataframe tbody tr th:only-of-type {\n",
       "        vertical-align: middle;\n",
       "    }\n",
       "\n",
       "    .dataframe tbody tr th {\n",
       "        vertical-align: top;\n",
       "    }\n",
       "\n",
       "    .dataframe thead th {\n",
       "        text-align: right;\n",
       "    }\n",
       "</style>\n",
       "<table border=\"1\" class=\"dataframe\">\n",
       "  <thead>\n",
       "    <tr style=\"text-align: right;\">\n",
       "      <th></th>\n",
       "      <th>count</th>\n",
       "      <th>mean</th>\n",
       "      <th>std</th>\n",
       "      <th>min</th>\n",
       "      <th>25%</th>\n",
       "      <th>50%</th>\n",
       "      <th>75%</th>\n",
       "      <th>max</th>\n",
       "    </tr>\n",
       "  </thead>\n",
       "  <tbody>\n",
       "    <tr>\n",
       "      <th>Candidate_Ref</th>\n",
       "      <td>8995.0</td>\n",
       "      <td>2.843647e+06</td>\n",
       "      <td>486344.774552</td>\n",
       "      <td>2109586.00</td>\n",
       "      <td>2386476.00</td>\n",
       "      <td>2807482.0</td>\n",
       "      <td>3300059.50</td>\n",
       "      <td>3836076.00</td>\n",
       "    </tr>\n",
       "    <tr>\n",
       "      <th>Duration.to.accept.offer</th>\n",
       "      <td>8995.0</td>\n",
       "      <td>2.143446e+01</td>\n",
       "      <td>25.811616</td>\n",
       "      <td>0.00</td>\n",
       "      <td>3.00</td>\n",
       "      <td>10.0</td>\n",
       "      <td>33.00</td>\n",
       "      <td>224.00</td>\n",
       "    </tr>\n",
       "    <tr>\n",
       "      <th>Notice.period</th>\n",
       "      <td>8995.0</td>\n",
       "      <td>3.929183e+01</td>\n",
       "      <td>22.220239</td>\n",
       "      <td>0.00</td>\n",
       "      <td>30.00</td>\n",
       "      <td>30.0</td>\n",
       "      <td>60.00</td>\n",
       "      <td>120.00</td>\n",
       "    </tr>\n",
       "    <tr>\n",
       "      <th>Pecent.hike.expected.in.CTC</th>\n",
       "      <td>8995.0</td>\n",
       "      <td>4.386480e+01</td>\n",
       "      <td>29.788975</td>\n",
       "      <td>-68.83</td>\n",
       "      <td>27.27</td>\n",
       "      <td>40.0</td>\n",
       "      <td>53.85</td>\n",
       "      <td>359.77</td>\n",
       "    </tr>\n",
       "    <tr>\n",
       "      <th>Percent.hike.offered.in.CTC</th>\n",
       "      <td>8995.0</td>\n",
       "      <td>4.065736e+01</td>\n",
       "      <td>36.064060</td>\n",
       "      <td>-60.53</td>\n",
       "      <td>22.09</td>\n",
       "      <td>36.0</td>\n",
       "      <td>50.00</td>\n",
       "      <td>471.43</td>\n",
       "    </tr>\n",
       "    <tr>\n",
       "      <th>Percent.difference.CTC</th>\n",
       "      <td>8995.0</td>\n",
       "      <td>-1.573802e+00</td>\n",
       "      <td>19.610729</td>\n",
       "      <td>-67.27</td>\n",
       "      <td>-8.33</td>\n",
       "      <td>0.0</td>\n",
       "      <td>0.00</td>\n",
       "      <td>300.00</td>\n",
       "    </tr>\n",
       "    <tr>\n",
       "      <th>Rex.in.Yrs</th>\n",
       "      <td>8995.0</td>\n",
       "      <td>4.239022e+00</td>\n",
       "      <td>2.547571</td>\n",
       "      <td>0.00</td>\n",
       "      <td>3.00</td>\n",
       "      <td>4.0</td>\n",
       "      <td>6.00</td>\n",
       "      <td>24.00</td>\n",
       "    </tr>\n",
       "    <tr>\n",
       "      <th>Age</th>\n",
       "      <td>8995.0</td>\n",
       "      <td>2.991317e+01</td>\n",
       "      <td>4.097912</td>\n",
       "      <td>20.00</td>\n",
       "      <td>27.00</td>\n",
       "      <td>29.0</td>\n",
       "      <td>34.00</td>\n",
       "      <td>60.00</td>\n",
       "    </tr>\n",
       "  </tbody>\n",
       "</table>\n",
       "</div>"
      ],
      "text/plain": [
       "                              count          mean            std         min  \\\n",
       "Candidate_Ref                8995.0  2.843647e+06  486344.774552  2109586.00   \n",
       "Duration.to.accept.offer     8995.0  2.143446e+01      25.811616        0.00   \n",
       "Notice.period                8995.0  3.929183e+01      22.220239        0.00   \n",
       "Pecent.hike.expected.in.CTC  8995.0  4.386480e+01      29.788975      -68.83   \n",
       "Percent.hike.offered.in.CTC  8995.0  4.065736e+01      36.064060      -60.53   \n",
       "Percent.difference.CTC       8995.0 -1.573802e+00      19.610729      -67.27   \n",
       "Rex.in.Yrs                   8995.0  4.239022e+00       2.547571        0.00   \n",
       "Age                          8995.0  2.991317e+01       4.097912       20.00   \n",
       "\n",
       "                                    25%        50%         75%         max  \n",
       "Candidate_Ref                2386476.00  2807482.0  3300059.50  3836076.00  \n",
       "Duration.to.accept.offer           3.00       10.0       33.00      224.00  \n",
       "Notice.period                     30.00       30.0       60.00      120.00  \n",
       "Pecent.hike.expected.in.CTC       27.27       40.0       53.85      359.77  \n",
       "Percent.hike.offered.in.CTC       22.09       36.0       50.00      471.43  \n",
       "Percent.difference.CTC            -8.33        0.0        0.00      300.00  \n",
       "Rex.in.Yrs                         3.00        4.0        6.00       24.00  \n",
       "Age                               27.00       29.0       34.00       60.00  "
      ]
     },
     "execution_count": 6,
     "metadata": {},
     "output_type": "execute_result"
    }
   ],
   "source": [
    "df.head()\n",
    "df.tail()\n",
    "print('number of rows:',df.shape[0])\n",
    "print('number of columns:',df.shape[1])\n",
    "df.info()\n",
    "df.describe().transpose()"
   ]
  },
  {
   "cell_type": "code",
   "execution_count": 7,
   "id": "700bbab9",
   "metadata": {},
   "outputs": [
    {
     "data": {
      "text/plain": [
       "Index(['DOJ.Extended', 'Offered.band', 'Joining.Bonus',\n",
       "       'Candidate.relocate.actual', 'Gender', 'Candidate.Source', 'LOB',\n",
       "       'Location', 'Status'],\n",
       "      dtype='object')"
      ]
     },
     "execution_count": 7,
     "metadata": {},
     "output_type": "execute_result"
    }
   ],
   "source": [
    "# categorical variables\n",
    "df.select_dtypes(include='object').columns"
   ]
  },
  {
   "cell_type": "code",
   "execution_count": 8,
   "id": "d9c47068",
   "metadata": {},
   "outputs": [
    {
     "data": {
      "text/html": [
       "<div>\n",
       "<style scoped>\n",
       "    .dataframe tbody tr th:only-of-type {\n",
       "        vertical-align: middle;\n",
       "    }\n",
       "\n",
       "    .dataframe tbody tr th {\n",
       "        vertical-align: top;\n",
       "    }\n",
       "\n",
       "    .dataframe thead th {\n",
       "        text-align: right;\n",
       "    }\n",
       "</style>\n",
       "<table border=\"1\" class=\"dataframe\">\n",
       "  <thead>\n",
       "    <tr style=\"text-align: right;\">\n",
       "      <th></th>\n",
       "      <th>Status</th>\n",
       "      <th>Percentage</th>\n",
       "    </tr>\n",
       "  </thead>\n",
       "  <tbody>\n",
       "    <tr>\n",
       "      <th>0</th>\n",
       "      <td>Joined</td>\n",
       "      <td>81.300723</td>\n",
       "    </tr>\n",
       "    <tr>\n",
       "      <th>1</th>\n",
       "      <td>Not Joined</td>\n",
       "      <td>18.699277</td>\n",
       "    </tr>\n",
       "  </tbody>\n",
       "</table>\n",
       "</div>"
      ],
      "text/plain": [
       "       Status  Percentage\n",
       "0      Joined   81.300723\n",
       "1  Not Joined   18.699277"
      ]
     },
     "execution_count": 8,
     "metadata": {},
     "output_type": "execute_result"
    }
   ],
   "source": [
    "# percentage of department category\n",
    "a=df['Status'].value_counts()\n",
    "per=(a.values/df.shape[0])*100\n",
    "p1=pd.DataFrame()\n",
    "p1['Status']=df['Status'].unique()\n",
    "p1['Percentage']=per\n",
    "p1"
   ]
  },
  {
   "cell_type": "code",
   "execution_count": 9,
   "id": "18a13b6a",
   "metadata": {},
   "outputs": [
    {
     "data": {
      "text/html": [
       "<div>\n",
       "<style scoped>\n",
       "    .dataframe tbody tr th:only-of-type {\n",
       "        vertical-align: middle;\n",
       "    }\n",
       "\n",
       "    .dataframe tbody tr th {\n",
       "        vertical-align: top;\n",
       "    }\n",
       "\n",
       "    .dataframe thead th {\n",
       "        text-align: right;\n",
       "    }\n",
       "</style>\n",
       "<table border=\"1\" class=\"dataframe\">\n",
       "  <thead>\n",
       "    <tr style=\"text-align: right;\">\n",
       "      <th></th>\n",
       "      <th>Offered.band</th>\n",
       "      <th>Percentage</th>\n",
       "    </tr>\n",
       "  </thead>\n",
       "  <tbody>\n",
       "    <tr>\n",
       "      <th>0</th>\n",
       "      <td>E2</td>\n",
       "      <td>61.901056</td>\n",
       "    </tr>\n",
       "    <tr>\n",
       "      <th>1</th>\n",
       "      <td>E1</td>\n",
       "      <td>30.138966</td>\n",
       "    </tr>\n",
       "    <tr>\n",
       "      <th>2</th>\n",
       "      <td>E3</td>\n",
       "      <td>5.614230</td>\n",
       "    </tr>\n",
       "    <tr>\n",
       "      <th>3</th>\n",
       "      <td>E0</td>\n",
       "      <td>2.345748</td>\n",
       "    </tr>\n",
       "  </tbody>\n",
       "</table>\n",
       "</div>"
      ],
      "text/plain": [
       "  Offered.band  Percentage\n",
       "0           E2   61.901056\n",
       "1           E1   30.138966\n",
       "2           E3    5.614230\n",
       "3           E0    2.345748"
      ]
     },
     "execution_count": 9,
     "metadata": {},
     "output_type": "execute_result"
    }
   ],
   "source": [
    "# percentage of department category\n",
    "a=df['Offered.band'].value_counts()\n",
    "per=(a.values/df.shape[0])*100\n",
    "p1=pd.DataFrame()\n",
    "p1['Offered.band']=df['Offered.band'].unique()\n",
    "p1['Percentage']=per\n",
    "p1"
   ]
  },
  {
   "cell_type": "code",
   "execution_count": 10,
   "id": "d08f202f",
   "metadata": {},
   "outputs": [
    {
     "data": {
      "text/html": [
       "<div>\n",
       "<style scoped>\n",
       "    .dataframe tbody tr th:only-of-type {\n",
       "        vertical-align: middle;\n",
       "    }\n",
       "\n",
       "    .dataframe tbody tr th {\n",
       "        vertical-align: top;\n",
       "    }\n",
       "\n",
       "    .dataframe thead th {\n",
       "        text-align: right;\n",
       "    }\n",
       "</style>\n",
       "<table border=\"1\" class=\"dataframe\">\n",
       "  <thead>\n",
       "    <tr style=\"text-align: right;\">\n",
       "      <th></th>\n",
       "      <th>Gender</th>\n",
       "      <th>Percentage</th>\n",
       "    </tr>\n",
       "  </thead>\n",
       "  <tbody>\n",
       "    <tr>\n",
       "      <th>0</th>\n",
       "      <td>Female</td>\n",
       "      <td>82.757087</td>\n",
       "    </tr>\n",
       "    <tr>\n",
       "      <th>1</th>\n",
       "      <td>Male</td>\n",
       "      <td>17.242913</td>\n",
       "    </tr>\n",
       "  </tbody>\n",
       "</table>\n",
       "</div>"
      ],
      "text/plain": [
       "   Gender  Percentage\n",
       "0  Female   82.757087\n",
       "1    Male   17.242913"
      ]
     },
     "execution_count": 10,
     "metadata": {},
     "output_type": "execute_result"
    }
   ],
   "source": [
    "# percentage \n",
    "a=df['Gender'].value_counts()\n",
    "per=(a.values/df.shape[0])*100\n",
    "p1=pd.DataFrame()\n",
    "p1['Gender']=df['Gender'].unique()\n",
    "p1['Percentage']=per\n",
    "p1\n"
   ]
  },
  {
   "cell_type": "code",
   "execution_count": 11,
   "id": "236e2fc9",
   "metadata": {},
   "outputs": [
    {
     "data": {
      "text/html": [
       "<div>\n",
       "<style scoped>\n",
       "    .dataframe tbody tr th:only-of-type {\n",
       "        vertical-align: middle;\n",
       "    }\n",
       "\n",
       "    .dataframe tbody tr th {\n",
       "        vertical-align: top;\n",
       "    }\n",
       "\n",
       "    .dataframe thead th {\n",
       "        text-align: right;\n",
       "    }\n",
       "</style>\n",
       "<table border=\"1\" class=\"dataframe\">\n",
       "  <thead>\n",
       "    <tr style=\"text-align: right;\">\n",
       "      <th></th>\n",
       "      <th>Candidate.Source</th>\n",
       "      <th>Percentage</th>\n",
       "    </tr>\n",
       "  </thead>\n",
       "  <tbody>\n",
       "    <tr>\n",
       "      <th>0</th>\n",
       "      <td>Agency</td>\n",
       "      <td>53.374097</td>\n",
       "    </tr>\n",
       "    <tr>\n",
       "      <th>1</th>\n",
       "      <td>Employee Referral</td>\n",
       "      <td>28.738188</td>\n",
       "    </tr>\n",
       "    <tr>\n",
       "      <th>2</th>\n",
       "      <td>Direct</td>\n",
       "      <td>17.887715</td>\n",
       "    </tr>\n",
       "  </tbody>\n",
       "</table>\n",
       "</div>"
      ],
      "text/plain": [
       "    Candidate.Source  Percentage\n",
       "0             Agency   53.374097\n",
       "1  Employee Referral   28.738188\n",
       "2             Direct   17.887715"
      ]
     },
     "execution_count": 11,
     "metadata": {},
     "output_type": "execute_result"
    }
   ],
   "source": [
    "\n",
    "# percentage \n",
    "a=df['Candidate.Source'].value_counts()\n",
    "per=(a.values/df.shape[0])*100\n",
    "p1=pd.DataFrame()\n",
    "p1['Candidate.Source']=df['Candidate.Source'].unique()\n",
    "p1['Percentage']=per\n",
    "p1"
   ]
  },
  {
   "cell_type": "code",
   "execution_count": 12,
   "id": "2ad17b4f",
   "metadata": {},
   "outputs": [
    {
     "data": {
      "text/html": [
       "<div>\n",
       "<style scoped>\n",
       "    .dataframe tbody tr th:only-of-type {\n",
       "        vertical-align: middle;\n",
       "    }\n",
       "\n",
       "    .dataframe tbody tr th {\n",
       "        vertical-align: top;\n",
       "    }\n",
       "\n",
       "    .dataframe thead th {\n",
       "        text-align: right;\n",
       "    }\n",
       "</style>\n",
       "<table border=\"1\" class=\"dataframe\">\n",
       "  <thead>\n",
       "    <tr style=\"text-align: right;\">\n",
       "      <th></th>\n",
       "      <th>DOJ.Extended</th>\n",
       "      <th>Percentage</th>\n",
       "    </tr>\n",
       "  </thead>\n",
       "  <tbody>\n",
       "    <tr>\n",
       "      <th>0</th>\n",
       "      <td>Yes</td>\n",
       "      <td>53.229572</td>\n",
       "    </tr>\n",
       "    <tr>\n",
       "      <th>1</th>\n",
       "      <td>No</td>\n",
       "      <td>46.770428</td>\n",
       "    </tr>\n",
       "  </tbody>\n",
       "</table>\n",
       "</div>"
      ],
      "text/plain": [
       "  DOJ.Extended  Percentage\n",
       "0          Yes   53.229572\n",
       "1           No   46.770428"
      ]
     },
     "execution_count": 12,
     "metadata": {},
     "output_type": "execute_result"
    }
   ],
   "source": [
    "\n",
    "# percentage \n",
    "a=df['DOJ.Extended'].value_counts()\n",
    "per=(a.values/df.shape[0])*100\n",
    "p1=pd.DataFrame()\n",
    "p1['DOJ.Extended']=df['DOJ.Extended'].unique()\n",
    "p1['Percentage']=per\n",
    "p1"
   ]
  },
  {
   "cell_type": "code",
   "execution_count": 13,
   "id": "3b1dabb2",
   "metadata": {},
   "outputs": [
    {
     "data": {
      "text/html": [
       "<div>\n",
       "<style scoped>\n",
       "    .dataframe tbody tr th:only-of-type {\n",
       "        vertical-align: middle;\n",
       "    }\n",
       "\n",
       "    .dataframe tbody tr th {\n",
       "        vertical-align: top;\n",
       "    }\n",
       "\n",
       "    .dataframe thead th {\n",
       "        text-align: right;\n",
       "    }\n",
       "</style>\n",
       "<table border=\"1\" class=\"dataframe\">\n",
       "  <thead>\n",
       "    <tr style=\"text-align: right;\">\n",
       "      <th></th>\n",
       "      <th>Joining.Bonus</th>\n",
       "      <th>Percentage</th>\n",
       "    </tr>\n",
       "  </thead>\n",
       "  <tbody>\n",
       "    <tr>\n",
       "      <th>0</th>\n",
       "      <td>No</td>\n",
       "      <td>95.364091</td>\n",
       "    </tr>\n",
       "    <tr>\n",
       "      <th>1</th>\n",
       "      <td>Yes</td>\n",
       "      <td>4.635909</td>\n",
       "    </tr>\n",
       "  </tbody>\n",
       "</table>\n",
       "</div>"
      ],
      "text/plain": [
       "  Joining.Bonus  Percentage\n",
       "0            No   95.364091\n",
       "1           Yes    4.635909"
      ]
     },
     "execution_count": 13,
     "metadata": {},
     "output_type": "execute_result"
    }
   ],
   "source": [
    "\n",
    "# percentage \n",
    "a=df['Joining.Bonus'].value_counts()\n",
    "per=(a.values/df.shape[0])*100\n",
    "p1=pd.DataFrame()\n",
    "p1['Joining.Bonus']=df['Joining.Bonus'].unique()\n",
    "p1['Percentage']=per\n",
    "p1"
   ]
  },
  {
   "cell_type": "code",
   "execution_count": 20,
   "id": "47c200ae",
   "metadata": {},
   "outputs": [
    {
     "data": {
      "text/plain": [
       "Index(['Candidate_Ref', 'DOJ.Extended', 'Duration.to.accept.offer',\n",
       "       'Notice.period', 'Offered.band', 'Pecent.hike.expected.in.CTC',\n",
       "       'Percent.hike.offered.in.CTC', 'Percent.difference.CTC',\n",
       "       'Joining.Bonus', 'Candidate.relocate.actual', 'Gender',\n",
       "       'Candidate.Source', 'Rex.in.Yrs', 'LOB', 'Location', 'Age', 'Status'],\n",
       "      dtype='object')"
      ]
     },
     "execution_count": 20,
     "metadata": {},
     "output_type": "execute_result"
    }
   ],
   "source": [
    "df.columns"
   ]
  },
  {
   "cell_type": "code",
   "execution_count": 24,
   "id": "8d269fec",
   "metadata": {},
   "outputs": [],
   "source": [
    "rankings_pd = pd.DataFrame(df)\n",
    "rankings_pd.rename(columns = {'DOJ.Extended':'DOJ_Extended', 'Duration.to.accept.offer':'Duration_to_accept_offer',\n",
    "                              'Notice.period':'Notice_period','Offered.band':'Offered_band',\n",
    "                        'Pecent.hike.expected.in.CTC':'Pecent_hike_expected_in_CTC',\n",
    "                        'Percent.difference.CTC':'Percent_difference_CTC','Joining.Bonus':'Joining_Bonus',\n",
    "                       'Candidate.relocate.actual':'Candidate_relocate_actual','Candidate.Source':'Candidate_Source',\n",
    "                       'Rex.in.Yrs':'Rex_in_Yrs'}, inplace = True)"
   ]
  },
  {
   "cell_type": "code",
   "execution_count": 25,
   "id": "714abbe1",
   "metadata": {
    "scrolled": true
   },
   "outputs": [
    {
     "data": {
      "text/plain": [
       "Index(['Candidate_Ref', 'DOJ_Extended', 'Duration_to_accept_offer',\n",
       "       'Notice_period', 'Offered_band', 'Pecent_hike_expected_in_CTC',\n",
       "       'Percent.hike.offered.in.CTC', 'Percent_difference_CTC',\n",
       "       'Joining_Bonus', 'Candidate_relocate_actual', 'Gender',\n",
       "       'Candidate_Source', 'Rex_in_Yrs', 'LOB', 'Location', 'Age', 'Status'],\n",
       "      dtype='object')"
      ]
     },
     "execution_count": 25,
     "metadata": {},
     "output_type": "execute_result"
    }
   ],
   "source": [
    "df.columns"
   ]
  },
  {
   "cell_type": "code",
   "execution_count": 44,
   "id": "c3909ac6",
   "metadata": {},
   "outputs": [
    {
     "data": {
      "text/plain": [
       "<AxesSubplot:xlabel='Location'>"
      ]
     },
     "execution_count": 44,
     "metadata": {},
     "output_type": "execute_result"
    },
    {
     "data": {
      "image/png": "[encoded data removed]",
      "text/plain": [
       "<Figure size 1440x720 with 1 Axes>"
      ]
     },
     "metadata": {
      "needs_background": "light"
     },
     "output_type": "display_data"
    }
   ],
   "source": [
    "pd.crosstab(df.Location,df.Status).plot(kind='bar',figsize=(20, 10))"
   ]
  },
  {
   "cell_type": "code",
   "execution_count": 43,
   "id": "ce5afeb6",
   "metadata": {},
   "outputs": [
    {
     "data": {
      "text/plain": [
       "<AxesSubplot:xlabel='DOJ_Extended'>"
      ]
     },
     "execution_count": 43,
     "metadata": {},
     "output_type": "execute_result"
    },
    {
     "data": {
      "image/png": "[encoded data removed]",
      "text/plain": [
       "<Figure size 1440x720 with 1 Axes>"
      ]
     },
     "metadata": {
      "needs_background": "light"
     },
     "output_type": "display_data"
    }
   ],
   "source": [
    "pd.crosstab(df.DOJ_Extended,df.Status).plot(kind='bar',figsize=(20, 10))"
   ]
  },
  {
   "cell_type": "code",
   "execution_count": 42,
   "id": "fbb51bf3",
   "metadata": {},
   "outputs": [
    {
     "data": {
      "text/plain": [
       "<AxesSubplot:xlabel='Candidate_relocate_actual'>"
      ]
     },
     "execution_count": 42,
     "metadata": {},
     "output_type": "execute_result"
    },
    {
     "data": {
      "image/png": "[encoded data removed]",
      "text/plain": [
       "<Figure size 1440x720 with 1 Axes>"
      ]
     },
     "metadata": {
      "needs_background": "light"
     },
     "output_type": "display_data"
    }
   ],
   "source": [
    "pd.crosstab(df.Candidate_relocate_actual,df.Status).plot(kind='bar',figsize=(20, 10))"
   ]
  },
  {
   "cell_type": "code",
   "execution_count": 39,
   "id": "ac2263e5",
   "metadata": {},
   "outputs": [
    {
     "data": {
      "text/plain": [
       "<AxesSubplot:xlabel='Gender'>"
      ]
     },
     "execution_count": 39,
     "metadata": {},
     "output_type": "execute_result"
    },
    {
     "data": {
      "image/png": "[encoded data removed]",
      "text/plain": [
       "<Figure size 1440x720 with 1 Axes>"
      ]
     },
     "metadata": {
      "needs_background": "light"
     },
     "output_type": "display_data"
    }
   ],
   "source": [
    "#pd.crosstab(df.Gender,df.Status).plot(kind='bar')\n",
    "pd.crosstab(df.Gender,df.Status).plot(kind='bar',figsize=(20, 10))"
   ]
  },
  {
   "cell_type": "code",
   "execution_count": 36,
   "id": "c6bc9d90",
   "metadata": {
    "scrolled": true
   },
   "outputs": [
    {
     "data": {
      "text/plain": [
       "<AxesSubplot:xlabel='Notice_period'>"
      ]
     },
     "execution_count": 36,
     "metadata": {},
     "output_type": "execute_result"
    },
    {
     "data": {
      "image/png": "[encoded data removed]",
      "text/plain": [
       "<Figure size 864x576 with 1 Axes>"
      ]
     },
     "metadata": {
      "needs_background": "light"
     },
     "output_type": "display_data"
    }
   ],
   "source": [
    "pd.crosstab(df.Notice_period,df.Status).plot(kind='bar',figsize=(12, 8))"
   ]
  },
  {
   "cell_type": "code",
   "execution_count": 38,
   "id": "2e148891",
   "metadata": {},
   "outputs": [
    {
     "data": {
      "text/plain": [
       "<AxesSubplot:xlabel='Notice_period'>"
      ]
     },
     "execution_count": 38,
     "metadata": {},
     "output_type": "execute_result"
    },
    {
     "data": {
      "image/png": "[encoded data removed]",
      "text/plain": [
       "<Figure size 1440x720 with 1 Axes>"
      ]
     },
     "metadata": {
      "needs_background": "light"
     },
     "output_type": "display_data"
    }
   ],
   "source": [
    "pd.crosstab(df.Notice_period,df.Status).plot(kind='bar',figsize=(20, 10))"
   ]
  },
  {
   "cell_type": "code",
   "execution_count": null,
   "id": "e72b821c",
   "metadata": {},
   "outputs": [],
   "source": [
    "# compute percentage of each format\n",
    "percentage = []\n",
    "for i in range(data.shape[0]):\n",
    "\tpct = (data.Runs[i] / total_runs) * 100\n",
    "\tpercentage.append(round(pct,2))\n",
    "data['Percentage'] = percentage\n",
    "\n",
    "# depict illustration\n",
    "plt.figure(figsize=(8,8))\n",
    "colors_list = ['Red','Orange', 'Blue', 'Purple']\n",
    "graph = plt.bar(data.Format,data.Runs, color = colors_list)\n",
    "plt.title('Percentage of runs scored by MS Dhoni across all formats')\n",
    "\n",
    "i = 0\n",
    "for p in graph:\n",
    "\twidth = p.get_width()\n",
    "\theight = p.get_height()\n",
    "\tx, y = p.get_xy()\n",
    "\tplt.text(x+width/2,\n",
    "\t\t\ty+height*1.01,\n",
    "\t\t\tstr(data.Percentage[i])+'%',\n",
    "\t\t\tha='center',\n",
    "\t\t\tweight='bold')\n",
    "\ti+=1\n",
    "plt.show()\n",
    "\n"
   ]
  },
  {
   "cell_type": "code",
   "execution_count": 26,
   "id": "27ff9146",
   "metadata": {},
   "outputs": [
    {
     "data": {
      "text/html": [
       "<div>\n",
       "<style scoped>\n",
       "    .dataframe tbody tr th:only-of-type {\n",
       "        vertical-align: middle;\n",
       "    }\n",
       "\n",
       "    .dataframe tbody tr th {\n",
       "        vertical-align: top;\n",
       "    }\n",
       "\n",
       "    .dataframe thead th {\n",
       "        text-align: right;\n",
       "    }\n",
       "</style>\n",
       "<table border=\"1\" class=\"dataframe\">\n",
       "  <thead>\n",
       "    <tr style=\"text-align: right;\">\n",
       "      <th></th>\n",
       "      <th>Candidate_Ref</th>\n",
       "      <th>Duration_to_accept_offer</th>\n",
       "      <th>Notice_period</th>\n",
       "      <th>Pecent_hike_expected_in_CTC</th>\n",
       "      <th>Percent.hike.offered.in.CTC</th>\n",
       "      <th>Percent_difference_CTC</th>\n",
       "      <th>Rex_in_Yrs</th>\n",
       "      <th>Age</th>\n",
       "    </tr>\n",
       "  </thead>\n",
       "  <tbody>\n",
       "    <tr>\n",
       "      <th>Candidate_Ref</th>\n",
       "      <td>1.000000</td>\n",
       "      <td>-0.030752</td>\n",
       "      <td>-0.120810</td>\n",
       "      <td>0.077124</td>\n",
       "      <td>0.044828</td>\n",
       "      <td>-0.016667</td>\n",
       "      <td>-0.047440</td>\n",
       "      <td>0.306520</td>\n",
       "    </tr>\n",
       "    <tr>\n",
       "      <th>Duration_to_accept_offer</th>\n",
       "      <td>-0.030752</td>\n",
       "      <td>1.000000</td>\n",
       "      <td>0.363760</td>\n",
       "      <td>0.018821</td>\n",
       "      <td>0.007307</td>\n",
       "      <td>-0.009395</td>\n",
       "      <td>0.113951</td>\n",
       "      <td>0.020131</td>\n",
       "    </tr>\n",
       "    <tr>\n",
       "      <th>Notice_period</th>\n",
       "      <td>-0.120810</td>\n",
       "      <td>0.363760</td>\n",
       "      <td>1.000000</td>\n",
       "      <td>-0.005262</td>\n",
       "      <td>-0.013458</td>\n",
       "      <td>-0.015067</td>\n",
       "      <td>0.181786</td>\n",
       "      <td>-0.004967</td>\n",
       "    </tr>\n",
       "    <tr>\n",
       "      <th>Pecent_hike_expected_in_CTC</th>\n",
       "      <td>0.077124</td>\n",
       "      <td>0.018821</td>\n",
       "      <td>-0.005262</td>\n",
       "      <td>1.000000</td>\n",
       "      <td>0.668594</td>\n",
       "      <td>-0.161501</td>\n",
       "      <td>-0.217391</td>\n",
       "      <td>-0.137705</td>\n",
       "    </tr>\n",
       "    <tr>\n",
       "      <th>Percent.hike.offered.in.CTC</th>\n",
       "      <td>0.044828</td>\n",
       "      <td>0.007307</td>\n",
       "      <td>-0.013458</td>\n",
       "      <td>0.668594</td>\n",
       "      <td>1.000000</td>\n",
       "      <td>0.598779</td>\n",
       "      <td>-0.110243</td>\n",
       "      <td>-0.080010</td>\n",
       "    </tr>\n",
       "    <tr>\n",
       "      <th>Percent_difference_CTC</th>\n",
       "      <td>-0.016667</td>\n",
       "      <td>-0.009395</td>\n",
       "      <td>-0.015067</td>\n",
       "      <td>-0.161501</td>\n",
       "      <td>0.598779</td>\n",
       "      <td>1.000000</td>\n",
       "      <td>0.081547</td>\n",
       "      <td>0.037955</td>\n",
       "    </tr>\n",
       "    <tr>\n",
       "      <th>Rex_in_Yrs</th>\n",
       "      <td>-0.047440</td>\n",
       "      <td>0.113951</td>\n",
       "      <td>0.181786</td>\n",
       "      <td>-0.217391</td>\n",
       "      <td>-0.110243</td>\n",
       "      <td>0.081547</td>\n",
       "      <td>1.000000</td>\n",
       "      <td>0.568228</td>\n",
       "    </tr>\n",
       "    <tr>\n",
       "      <th>Age</th>\n",
       "      <td>0.306520</td>\n",
       "      <td>0.020131</td>\n",
       "      <td>-0.004967</td>\n",
       "      <td>-0.137705</td>\n",
       "      <td>-0.080010</td>\n",
       "      <td>0.037955</td>\n",
       "      <td>0.568228</td>\n",
       "      <td>1.000000</td>\n",
       "    </tr>\n",
       "  </tbody>\n",
       "</table>\n",
       "</div>"
      ],
      "text/plain": [
       "                             Candidate_Ref  Duration_to_accept_offer  \\\n",
       "Candidate_Ref                     1.000000                 -0.030752   \n",
       "Duration_to_accept_offer         -0.030752                  1.000000   \n",
       "Notice_period                    -0.120810                  0.363760   \n",
       "Pecent_hike_expected_in_CTC       0.077124                  0.018821   \n",
       "Percent.hike.offered.in.CTC       0.044828                  0.007307   \n",
       "Percent_difference_CTC           -0.016667                 -0.009395   \n",
       "Rex_in_Yrs                       -0.047440                  0.113951   \n",
       "Age                               0.306520                  0.020131   \n",
       "\n",
       "                             Notice_period  Pecent_hike_expected_in_CTC  \\\n",
       "Candidate_Ref                    -0.120810                     0.077124   \n",
       "Duration_to_accept_offer          0.363760                     0.018821   \n",
       "Notice_period                     1.000000                    -0.005262   \n",
       "Pecent_hike_expected_in_CTC      -0.005262                     1.000000   \n",
       "Percent.hike.offered.in.CTC      -0.013458                     0.668594   \n",
       "Percent_difference_CTC           -0.015067                    -0.161501   \n",
       "Rex_in_Yrs                        0.181786                    -0.217391   \n",
       "Age                              -0.004967                    -0.137705   \n",
       "\n",
       "                             Percent.hike.offered.in.CTC  \\\n",
       "Candidate_Ref                                   0.044828   \n",
       "Duration_to_accept_offer                        0.007307   \n",
       "Notice_period                                  -0.013458   \n",
       "Pecent_hike_expected_in_CTC                     0.668594   \n",
       "Percent.hike.offered.in.CTC                     1.000000   \n",
       "Percent_difference_CTC                          0.598779   \n",
       "Rex_in_Yrs                                     -0.110243   \n",
       "Age                                            -0.080010   \n",
       "\n",
       "                             Percent_difference_CTC  Rex_in_Yrs       Age  \n",
       "Candidate_Ref                             -0.016667   -0.047440  0.306520  \n",
       "Duration_to_accept_offer                  -0.009395    0.113951  0.020131  \n",
       "Notice_period                             -0.015067    0.181786 -0.004967  \n",
       "Pecent_hike_expected_in_CTC               -0.161501   -0.217391 -0.137705  \n",
       "Percent.hike.offered.in.CTC                0.598779   -0.110243 -0.080010  \n",
       "Percent_difference_CTC                     1.000000    0.081547  0.037955  \n",
       "Rex_in_Yrs                                 0.081547    1.000000  0.568228  \n",
       "Age                                        0.037955    0.568228  1.000000  "
      ]
     },
     "execution_count": 26,
     "metadata": {},
     "output_type": "execute_result"
    }
   ],
   "source": [
    "#Correlation\n",
    "df.corr()"
   ]
  },
  {
   "cell_type": "code",
   "execution_count": 16,
   "id": "b89d0a5c",
   "metadata": {},
   "outputs": [
    {
     "data": {
      "text/plain": [
       "<Figure size 1440x720 with 0 Axes>"
      ]
     },
     "execution_count": 16,
     "metadata": {},
     "output_type": "execute_result"
    },
    {
     "data": {
      "text/plain": [
       "<AxesSubplot:>"
      ]
     },
     "execution_count": 16,
     "metadata": {},
     "output_type": "execute_result"
    },
    {
     "data": {
      "image/png": "[encoded data removed]",
      "text/plain": [
       "<Figure size 1440x720 with 2 Axes>"
      ]
     },
     "metadata": {
      "needs_background": "light"
     },
     "output_type": "display_data"
    }
   ],
   "source": [
    "plt.figure(figsize=(20,10))\n",
    "sns.heatmap(df.corr() , annot=True)\n",
    "plt.show()"
   ]
  },
  {
   "cell_type": "markdown",
   "id": "38cc4d76",
   "metadata": {},
   "source": [
    "# Segmented Univariate Analysis"
   ]
  },
  {
   "cell_type": "code",
   "execution_count": 46,
   "id": "1972a6d9",
   "metadata": {},
   "outputs": [],
   "source": [
    "#df.groupby('Gender')['Status'].mean().sort_values(ascending=False)"
   ]
  },
  {
   "cell_type": "code",
   "execution_count": null,
   "id": "4bf8ab35",
   "metadata": {},
   "outputs": [],
   "source": []
  },
  {
   "cell_type": "code",
   "execution_count": null,
   "id": "982694bd",
   "metadata": {},
   "outputs": [],
   "source": []
  },
  {
   "cell_type": "code",
   "execution_count": null,
   "id": "99013b74",
   "metadata": {},
   "outputs": [],
   "source": []
  },
  {
   "cell_type": "code",
   "execution_count": null,
   "id": "d83ad84b",
   "metadata": {},
   "outputs": [],
   "source": []
  }
 ],
 "metadata": {
  "kernelspec": {
   "display_name": "Python 3",
   "language": "python",
   "name": "python3"
  },
  "language_info": {
   "codemirror_mode": {
    "name": "ipython",
    "version": 3
   },
   "file_extension": ".py",
   "mimetype": "text/x-python",
   "name": "python",
   "nbconvert_exporter": "python",
   "pygments_lexer": "ipython3",
   "version": "3.8.8"
  }
 },
 "nbformat": 4,
 "nbformat_minor": 5
}
